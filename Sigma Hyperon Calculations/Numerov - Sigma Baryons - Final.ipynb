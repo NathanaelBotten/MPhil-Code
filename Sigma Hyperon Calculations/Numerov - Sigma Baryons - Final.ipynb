{
 "cells": [
  {
   "cell_type": "code",
   "execution_count": 1,
   "id": "a84c3bae",
   "metadata": {},
   "outputs": [],
   "source": [
    "import numpy as np\n",
    "import matplotlib.pyplot as plt\n",
    "from scipy import integrate\n",
    "import matplotlib.ticker as mticker"
   ]
  },
  {
   "cell_type": "markdown",
   "id": "b34866f2",
   "metadata": {},
   "source": [
    "## Defining Constants"
   ]
  },
  {
   "cell_type": "code",
   "execution_count": 2,
   "id": "e68c62a0",
   "metadata": {},
   "outputs": [
    {
     "name": "stdout",
     "output_type": "stream",
     "text": [
      "7.512967409635865\n",
      "0.4807692307692307\n",
      "5.208990737347534\n"
     ]
    }
   ],
   "source": [
    "### Here we define constants from the QMC model - For the Sigma Baryon\n",
    "\n",
    "w1   = 0.5847     ### Fitting constant for sigma meson (unitless)\n",
    "w2   = 0.6629     ### Fitting constant for sigma meson (unitless)\n",
    "wom  = 2/3        ### Fitting constant for omega meson (unitless)\n",
    "d    = 0.176      ### Fitting constant for effective mass in [fm]\n",
    "MeV  = 197.3      ### Conversion for [fm^-1] -> [MeV]\n",
    "MSig = 1195       ### Mass of Sigma baryon in [MeV]\n",
    "msig = 504        ### Mass of sigma Meson [MeV]\n",
    "\n",
    "### Defining Coupling Constant\n",
    "Gsig = 8.65                     ### Coupling constant from best fit\n",
    "gsig = msig*np.sqrt(Gsig)/MeV   ### Defining the unitless coupling to the sigma field\n",
    "Ssig = 1/(2*1.04)               ### Defining the factor linking the coupling factor to the sigma field\n",
    "gsigq = gsig/(3*Ssig)           ### Defining the quark coupling\n",
    "\n",
    "### Here we define constants for the Nuclear Potential, from \n",
    "\n",
    "a    = 0.322        ### Parameter for the Nuclear Potential (unitless)\n",
    "w    = 1.74         ### Parameter for the Nuclear Potential (unitless)\n",
    "c    = 0.964        ### Parameter for the Nuclear Potential in [fm]\n",
    "rho0 = 0.15        ### Nuclear matter density in [fm^-3]"
   ]
  },
  {
   "cell_type": "markdown",
   "id": "64f4c103",
   "metadata": {},
   "source": [
    "### Defining Potentials and Nuclear Density\n",
    "\n",
    "We first wish to normalise the nucleon density such that: $\\int d^3r \\rho(r) = 4$, as here were are working with Helium.\n",
    "\n",
    "In addition, here we use the form for the nucleon density:\n",
    "\n",
    "$$ \\rho(r) = \\frac{\\rho_0(1+wr^2/c^2)}{1+exp((r-c)/a)} $$"
   ]
  },
  {
   "cell_type": "code",
   "execution_count": 5,
   "id": "c7eb2aa3",
   "metadata": {},
   "outputs": [],
   "source": [
    "### Defining the Nuclear Density\n",
    "\n",
    "def rho(r):\n",
    "    val = rho0*(1+w*r**2/c**2)/(1+np.exp((r-c)/a))\n",
    "    return val\n",
    "\n",
    "\n",
    "### Function included to calculate the correct normalisation\n",
    "def rhonormalise(r):\n",
    "    ### Here we include the r^2 term from the volume element of the integral. \n",
    "    val = rho0*r**2*(1+w*r**2/c**2)/(1+np.exp((r-c)/a))\n",
    "    return val\n",
    "\n",
    "### We now integrate over the integrand to obtain the normalisation\n",
    "intval  = integrate.quad(rhonormalise, 0, 100)[0]\n",
    "normrho = 4/(4*np.pi*intval)\n",
    "\n",
    "### Redefining rho(r), now with the proper normalisation\n",
    "def rho(r):\n",
    "    val = normrho*rho0*(1+w*r**2/c**2)/(1+np.exp((r-c)/a))\n",
    "    return val"
   ]
  },
  {
   "cell_type": "code",
   "execution_count": 18,
   "id": "458ba30f",
   "metadata": {},
   "outputs": [],
   "source": [
    "### Defining the many-body potential\n",
    "def V(r, Gsig, Gom, l):\n",
    "    ### Coefficients for the many-body forces, in MeV\n",
    "    c1   = -w1*Gsig*MeV + wom*Gom*MeV           ### 2-Body Forces\n",
    "    c2   =  (d*w2/2+d*w1)*Gsig**2*MeV           ### 3-Body Forces\n",
    "    \n",
    "    ### Definining a term that accounts for the velocity-dependent terms from the equations of motion\n",
    "    Inverse = 1#+Gsig*rho(r)*w1/MSig-Gsig**2*rho(r)**2*d*(w1-w2)/MSig\n",
    "    \n",
    "    ### Defining the Angular Momentum term\n",
    "    if l==0:\n",
    "        Ang = 0\n",
    "    else:\n",
    "        Ang  =  l*(l+1)/(2*MSig*r**2)*MeV**2\n",
    "    \n",
    "    ### Returning the Binding Potential\n",
    "    result = (c1*rho(r)+c2*rho(r)**2)/(Inverse)+Ang\n",
    "    \n",
    "    return result"
   ]
  },
  {
   "cell_type": "markdown",
   "id": "f49a7c80",
   "metadata": {},
   "source": [
    "#### Second form for the Potential\n",
    "\n",
    "The velocity dependent term also modifies the energy eigenvalue, and thus I had to include a second function for inputting into the Numerov Algorithm which accounts for this. We have here:\n",
    "$\\frac{(E-V(r))}{\\text{Velocity-dependent terms}}$\n",
    "\n",
    "And we note that from rearranging the Hamiltonian from the EoM that the angular momentum term is unaffected by the velocity-dependence, so we simply add it to the other term involved."
   ]
  },
  {
   "cell_type": "code",
   "execution_count": 19,
   "id": "bf0b2c95",
   "metadata": {},
   "outputs": [],
   "source": [
    "### Defining 2nd form for Potential which includes the energy term\n",
    "def VTwo(r, E, Gsig, Gom,l):\n",
    "    c1   = -w1*Gsig*MeV + wom*Gom*MeV            ### 2-Body Forces\n",
    "    c2   =  (d*w2/2+d*w1)*Gsig**2*MeV            ### 3-Body Forces\n",
    "    \n",
    "    Inverse = 1+(Gsig*rho(r)*w1/MSig-Gsig**2*rho(r)**2*d*(w1-w2)/MSig)\n",
    "\n",
    "    if l==0:\n",
    "        Ang = 0\n",
    "    else:\n",
    "        Ang  =  l*(l+1)/(2*MSig*r**2)*MeV**2\n",
    "    \n",
    "    result = ((E-(c1*rho(r)+c2*rho(r)**2)/Inverse)+Ang)\n",
    "    \n",
    "    return result   "
   ]
  },
  {
   "cell_type": "markdown",
   "id": "a36aacaf",
   "metadata": {},
   "source": [
    "#### Defining Classical Turning Point Function\n",
    "\n",
    "Now we will define some functions which will help to find solutions. We have one function which finds the classical turning point, which is the point where $E-V(r)$, changes sign. When solving using the numerov algorithm we will solve from either side, and match the solutions at the matchpoint which will be this classical turning point."
   ]
  },
  {
   "cell_type": "code",
   "execution_count": 20,
   "id": "8dc4a6bd",
   "metadata": {},
   "outputs": [],
   "source": [
    "### Function to find the classical turning point of the potential\n",
    "\n",
    "def ClassicalTurningPoint(x, N, E, Gsig, Gom, l):\n",
    "    imatch=0\n",
    "    VVec = VTwo(x, E, Gsig, Gom, l)  ### Creating a vector with the values for the potential\n",
    "    \n",
    "    ### Looping through the potential looking to find a turning point\n",
    "    for j in range(N-1):\n",
    "        CheckPoint = VVec[j]*VVec[j+1]\n",
    "        if CheckPoint<=0  and VVec[j] > 0:  #match point\n",
    "            imatch = j+1\n",
    "    return imatch"
   ]
  },
  {
   "cell_type": "markdown",
   "id": "a9b949d5",
   "metadata": {},
   "source": [
    "# Implementing The Numerov Algorithm\n",
    "\n",
    "The numerov algorithm is used to solve equations of the form: $\\frac{d^2 y}{dx^2} = f(x)y(x)$.\n",
    "\n",
    "When applying this to solve the schrodinger in this situation, the equation we have is in the form:\n",
    "$\\frac{d^2\\psi}{dr^2} = -2M_\\Lambda \\left[ \\frac{1}{\\eta(r)}[E-V_{binding}(r)] -\\frac{l(l+1)}{2M_\\Lambda r^2}\\right]\\psi(r)$, which is in the form $\\frac{d^2\\psi}{dr^2} = f(r)y(r)$.\n",
    "\n",
    "Where here, $\\eta(r)$ is the velocity dependent term, which has the form: $\\eta(r) = \\left[1+\\frac{1}{M_\\Lambda}G_\\sigma w \\rho_N-\\frac{1}{M_\\Lambda}\\left(w+\\frac{\\tilde{w}}{2}\\right)dG_\\sigma^2\\rho_N^2+\\frac{1}{M_\\Lambda}\\left(w+\\tilde{w} \\right)d^2G_\\sigma^3\\rho^3_N\\right]$.\n",
    "\n",
    "$V_{binding}(r)$ is the binding potential, which has the form: $V_{binding}(r)=-G_\\sigma w \\rho_N(r)+w_\\omega G_\\omega\\rho_N(r)+\\left(w+\\frac{\\tilde{w}}{2}\\right)dG_\\sigma^2 \\rho_N^2(r)-\\left(w +\\tilde{w}\\right)d^2G_\\sigma^3\\rho^3_N(r)$.\n",
    "\n",
    "And the final term is the term containing the angular momentum dependence.\n",
    "We note then that calling the function VTwo in the code is calling $f(r)$, as in the algorithm above, up to a factor of $2M_\\Lambda$, which is included in the numerov solver below."
   ]
  },
  {
   "cell_type": "code",
   "execution_count": 21,
   "id": "b611ad63",
   "metadata": {},
   "outputs": [],
   "source": [
    "### Code to find the solution from the left of the matchpoint\n",
    "\n",
    "def NumerovLeft(x, psi0, psi1, E, h, Gsig, Gom, l, imatch):\n",
    "    \n",
    "    ### Defining a vector with all the values for the potential for a given test solution\n",
    "    VVec = VTwo(x, E, Gsig, Gom, l)\n",
    "    \n",
    "    ### The term including the step size in the numerov algorithm\n",
    "    ### Not for our solution here this term includes the mass of the Lambda\n",
    "    mh12 = MSig*h**2/(6*MeV**2)\n",
    "    \n",
    "    ### Initialising a vector of zeros with the length of the left-side solution\n",
    "    PsiL = np.zeros(imatch)\n",
    "    \n",
    "    ### Inputting the inital conditions for the solution\n",
    "    PsiL[0] = psi0\n",
    "    PsiL[1] = psi1\n",
    "    \n",
    "    ### Iterating to find the left-side solution\n",
    "    for i in range(2, imatch):\n",
    "        w2 = 1+mh12*(VVec[i])\n",
    "        w1 = 2*(1-(5*mh12)*(VVec[i-1]))*PsiL[i-1]\n",
    "        w0 = (1+mh12*(VVec[i-2]))*PsiL[i-2]\n",
    "        \n",
    "        ### Filling out the vector with all the calculated values from the numerov algorithm\n",
    "        PsiL[i] = (w1-w0)/w2\n",
    "    \n",
    "    \n",
    "    return PsiL\n",
    "\n",
    "\n",
    "### Code to find the solution for the right side of the matchpoint\n",
    "\n",
    "def NumerovRight(x, psiN, psiNm1, E, h, Gsig, Gom, l, imatch):\n",
    "    \n",
    "    ### Defining a vector with all the values for the potential for a given test solution\n",
    "    VVec = VTwo(x, E, Gsig, Gom, l)\n",
    "    \n",
    "    ### The term including the step size in the numerov algorithm\n",
    "    ### Not for our solution here this term includes the mass of the Lambda\n",
    "    mh12 = MSig*h**2/(6*MeV**2)\n",
    "    \n",
    "    ### Defining the length of the right-side solution\n",
    "    dim = N-imatch\n",
    "    \n",
    "    ### Initialising a vector of zeros with the length of the right-side solution\n",
    "    PsiR    = np.zeros(dim)\n",
    "    \n",
    "    ### Inputting the initial conditions for the right-side solution\n",
    "    PsiR[0] = psiN\n",
    "    PsiR[1] = psiNm1\n",
    "    \n",
    "    ### Iterating to find the solutions for the right-side\n",
    "    for i in range(2, dim):\n",
    "        w2 = 1+mh12*(VVec[i])\n",
    "        w1 = 2*(1-(5*mh12)*(VVec[i-1]))*PsiR[i-1]\n",
    "        w0 = (1+mh12*(VVec[i-2]))*PsiR[i-2]\n",
    "        \n",
    "        ### Filling out the vector with all the calculated values from the numerov algorithm\n",
    "        PsiR[i] = (w1-w0)/w2\n",
    "    \n",
    "    ### We have at this stage the solution back to front for a right-side solution.\n",
    "    ### This is because of the way we arranged the loop\n",
    "    ### So we now flip the solution around to find the right-side solution properly\n",
    "    PsiR = np.flip(PsiR)\n",
    "    \n",
    "    return PsiR"
   ]
  },
  {
   "cell_type": "markdown",
   "id": "0ed176ac",
   "metadata": {},
   "source": [
    "## Defining a Function to find Energy Eigenstate\n",
    "\n",
    "We now have functions to calculate the wavefunction for a given energy, so we now need to put this together to find a valid energy eigenstate. This process works by:\n",
    "\n",
    "1. Take in the energy that is trying to be fit to.\n",
    "\n",
    "2. Solve for the wavefunction for the given energy using the numerov algorithm. We solve the equation by finding the classical energy turning point, and integrating from the left to the match point, and indenpendently from the right to the match point. This allows for us to test whether the energy is a valid energy eigenstate, and also helps to minimise numerical errors.\n",
    "\n",
    "3. We then enforce continuity by scaling the left side solution to match that at the right side\n",
    "\n",
    "4. After normalising the wavefunction we can test for smoothness. If the wavefunction is smooth we have found a valid energy eigenstate, and return Echeck as true. If it is not then we return Echeck as false. We also return the wavefunction Psi."
   ]
  },
  {
   "cell_type": "code",
   "execution_count": 22,
   "id": "75b0507f",
   "metadata": {},
   "outputs": [],
   "source": [
    "def Find_Energy(x, E, dE, Gsig, Gom, l, psi0, psi1, psiNm1, psiN, eps):\n",
    "    \n",
    "    ### We begin by initialising a number of constants. \n",
    "    Psi   = np.zeros(N)      ### Initialising a vector of zeros for our solution\n",
    "    check = 0                ### Defining a counter to let us find the upper and lower bounds for the energy.\n",
    "    Eerr  = 0                ### Defining the error in the energy\n",
    "    dE    = np.abs(dE)       ### Ensuring the step size for the energy is positive\n",
    "    \n",
    "    ### We begin iterating over energy values until we find a valid solution\n",
    "    \n",
    "\n",
    "    ### We first find the solutions to the Schrodinger equation for a given energy\n",
    "    ### This is done using the above numerov algorithm.\n",
    "    matchP = ClassicalTurningPoint(x, N, E, Gsig, Gom, l)\n",
    "    PsiL = NumerovLeft(x, psi0, psi1, E, h, Gsig, Gom, l, matchP)\n",
    "    PsiR = NumerovRight(x, psiN, psiNm1, E, h, Gsig, Gom, l, matchP)\n",
    "        \n",
    "        \n",
    "    ### Now we wish for our solution to be continuous\n",
    "    ### We can enforce this by scaling one side of the solution by the other\n",
    "    PsiLmatch = PsiL[matchP-1]\n",
    "    PsiRmatch = PsiR[0]\n",
    "    scale     = PsiRmatch/PsiLmatch\n",
    "    PsiL      = scale*PsiL\n",
    "        \n",
    "        \n",
    "    ### Following this we shall combine the left and right side solutions to one solution and then normalise it\n",
    "    Psi     = np.concatenate((PsiL, PsiR), axis=None)\n",
    "        \n",
    "    ### A simpson integration routine is used to find the normalisation (NO FACTOR OF x^2, as we return r\\psi from routine)\n",
    "    Norm    = integrate.simpson(4*np.pi*Psi*Psi, x)\n",
    "    PsiNorm = Psi/np.sqrt(Norm)\n",
    "        \n",
    "    ### To determine if the solution is valid we test for the smoothness of the functions.\n",
    "        \n",
    "    PsiLmm1 = PsiL[matchP-2]\n",
    "    PsiRmp1 = PsiR[1]\n",
    "        \n",
    "    ### Defining an approximatin for the first derivative\n",
    "    diff = np.abs(PsiLmm1+PsiRmp1-2*PsiRmatch)/(np.sqrt(Norm)*h)\n",
    "        \n",
    "    ### I've removed a lot of the code to do with finding the mean below, as it is not necessary to solve this \n",
    "    ### particular problem\n",
    "        \n",
    "    ### Checking whether the generated solution is a valid solution\n",
    "    if diff<eps:\n",
    "        Echeck = True\n",
    "        \n",
    "    ### If the solution is not accepted iterate to the next energy \n",
    "    ### (note this amounts to setting E = Efit+dE so in the BindFit function the if statement is not true).\n",
    "    else:\n",
    "        Echeck = False\n",
    "        \n",
    "    return PsiNorm, Echeck"
   ]
  },
  {
   "cell_type": "markdown",
   "id": "16f8e0d0",
   "metadata": {},
   "source": [
    "## Function to fit Binding Energy\n",
    "\n",
    "From here we wish to adjust the $G_\\omega$ coupling constant to fit the $\\Sigma^0$ binding energy. To find the fit we:\n",
    "\n",
    "1. Take as an input the energy we wish to fit for, for a given value of $G_\\sigma$, and a vector of $G_\\omega$ values to test over, along with the angular momentum state.\n",
    "\n",
    "2. We then proceed to call the Find_Energy function for each value of $G_\\omega$ until a valid solution is found.\n",
    "\n",
    "3. When a valid solution is found we return the value for $G_\\omega$ and the corresponding wavefunction."
   ]
  },
  {
   "cell_type": "code",
   "execution_count": 23,
   "id": "73d131e8",
   "metadata": {},
   "outputs": [],
   "source": [
    "### Here we have code to fit the binding energy of the Sigma^0 by varying G_\\omega\n",
    "\n",
    "def BindFit(x, Efit, dE, Gsig, GomVec, l, psi0, psi1, psiNm1, psiN, eps):\n",
    "    ### Defining the value to loop over based on the size of the values to be tested\n",
    "    TestRange = np.size(GomVec)\n",
    "    \n",
    "    ### Looping over values of G_\\omega to find one which fits the desired binding energy\n",
    "    for i in range (TestRange):\n",
    "        ### Calling a function to find if the binding energy is a valid solution for the given G_\\omega\n",
    "        Psi, Echeck = Find_Energy(x, Efit, dE, Gsig, GomVec[i], l, psi0, psi1, psiNm1, psiN, eps)\n",
    "        \n",
    "        ### If the solution is a valid solution, then the wavefunction and coupling constant for \n",
    "        ### G_\\omega are returned. Otherwise the loop continues until a valid solution is found.\n",
    "        if Echeck == True:\n",
    "            Gom = GomVec[i]\n",
    "            break\n",
    "    return Psi, Gom"
   ]
  },
  {
   "cell_type": "markdown",
   "id": "f5ca8347",
   "metadata": {},
   "source": [
    "## Defining the Constants used in the Solutions"
   ]
  },
  {
   "cell_type": "code",
   "execution_count": 24,
   "id": "e9b334a1",
   "metadata": {},
   "outputs": [],
   "source": [
    "### Defining the grid spacing\n",
    "\n",
    "N = 20000                      ### Number of points used\n",
    "L = 20                        ### Distance to integrate out to\n",
    "h = L/N                       ### Grid spacing\n",
    "x = np.linspace(1e-3, L, N)   ### Vector filled with points for distance\n",
    "\n",
    "### Defining Function Parameters for Numerov Algorithm\n",
    "\n",
    "dE    = 0.0001       ### Energy stepsize\n",
    "eps   = 1e-4         ### Error tolerance for whether a solution has been found\n",
    "maxit = 10000        ### Number of iterations for energy values that would be carried out\n",
    "\n",
    "### Boundary Conditions\n",
    "\n",
    "psi0   = 0\n",
    "psi1   = 0.1\n",
    "psiN   = 0.001\n",
    "psiNm1 = 0.005\n",
    "\n",
    "### Defining the physical values taken as an input to the function\n",
    "\n",
    "Gsig     =  8.65                     ### Setting the coupling constant for Gsigma as that from the best fit for Lambda hyperpons\n",
    "GomVec   =  np.linspace(0, 6, 6001)  ### Testing over a wide range of Gomega values\n",
    "EBinding = -7.6                      ### The binding energy for Sigma^0 hyperons in ^4 He\n",
    "l        =  0                        ### Testing for angular momentum state 0\n",
    "\n",
    "GsigVec  = np.linspace(8.65, 10.6, 195)\n",
    "GsigVec  = np.flip(GsigVec)"
   ]
  },
  {
   "cell_type": "code",
   "execution_count": 25,
   "id": "e9269ffb",
   "metadata": {},
   "outputs": [
    {
     "name": "stdout",
     "output_type": "stream",
     "text": [
      "The best for the Omega Coupling is: 3.54\n"
     ]
    }
   ],
   "source": [
    "### Calling the fitting function to obtain the wavefunction\n",
    "Psi, Gom = BindFit(x, EBinding, dE, Gsig, GomVec, l, psi0, psi1, psiNm1, psiN, eps)\n",
    "print('The fit for the Omega Coupling is:', Gom)"
   ]
  },
  {
   "cell_type": "code",
   "execution_count": 14,
   "id": "98900f47",
   "metadata": {},
   "outputs": [
    {
     "data": {
      "text/plain": [
       "Text(0.5, 1.0, '$\\\\Sigma^0$ Wavefunction')"
      ]
     },
     "execution_count": 14,
     "metadata": {},
     "output_type": "execute_result"
    },
    {
     "data": {
      "image/png": "[encoded data removed]",
      "text/plain": [
       "<Figure size 640x480 with 1 Axes>"
      ]
     },
     "metadata": {},
     "output_type": "display_data"
    }
   ],
   "source": [
    "plt.plot(x, x**2*Psi**2)\n",
    "plt.grid()\n",
    "plt.xlabel('r [fm]')\n",
    "plt.ylabel(r'$r^2 \\psi^2$')\n",
    "plt.title(r'$\\Sigma^0$ Wavefunction')"
   ]
  },
  {
   "cell_type": "markdown",
   "id": "7c3b7636",
   "metadata": {},
   "source": [
    "## Calculating Mean-Values\n",
    "\n",
    "We now turn to calculating $<g_\\sigma^q \\sigma>$ and $<\\rho>$. To do this we calculate the integrals:\n",
    "\n",
    "$<g_\\sigma^q \\sigma> = \\int dV \\bar{\\psi} g_\\sigma^q \\sigma \\psi$ and $<\\rho> = \\int dV \\bar{\\psi} \\rho \\psi$\n",
    "\n",
    "So we first define the integrands and then perform a simpson integration routine. \n",
    "\n",
    "Here $\\rho$ is as defined earlier, and the equation for $<g_\\sigma^q \\sigma>$ comes from the equations of motion, and is given by:\n",
    "$<g_\\sigma^q \\sigma> = G_\\sigma\\rho(r)[1-dG_\\sigma \\rho(r)]/(3S(\\sigma=0))$, as $g_\\sigma^q =  g_{\\sigma N}/3S(\\sigma=0)$"
   ]
  },
  {
   "cell_type": "code",
   "execution_count": 27,
   "id": "b5c98563",
   "metadata": {
    "scrolled": true
   },
   "outputs": [
    {
     "name": "stdout",
     "output_type": "stream",
     "text": [
      "50.411663179738326\n",
      "The mean value of the field, with the quark coupling is:, 71.20178197922684 [MeV]\n",
      "The mean value of the nuclear density is: 0.07217730775030472 [fm^-3]\n"
     ]
    }
   ],
   "source": [
    "def gsigSigma(r):\n",
    "    ### Defining a function to call gsig^q \\sigma in MeV\n",
    "    sig = Gsig*rho(r)*(1-d*Gsig*rho(r))*MeV\n",
    "    return sig \n",
    "\n",
    "### Defining functions to call the integrand to be called for the numerical integrations\n",
    "def MeanSigmaIntegrand(r, Psi):\n",
    "    Int = 4*np.pi*Psi*gsigSigma(r)*Psi\n",
    "    return Int\n",
    "\n",
    "def MeanDensIntegrand(r, Psi):\n",
    "    ### Using the definition for \\rho from above.\n",
    "    Int = 4*np.pi*Psi*rho(r)*Psi\n",
    "    return Int\n",
    "\n",
    "### Performing the Numerical Integration, with respect to x. x has the same spacing as Psi here,\n",
    "### so this will ensure the correct value for the numerical integration.\n",
    "SigBar = integrate.simps(MeanSigmaIntegrand(x, Psi), x)\n",
    "\n",
    "rhoBar = integrate.simps(MeanDensIntegrand(x, Psi), x)\n",
    "\n",
    "### Returning the Results of the Integration\n",
    "\n",
    "print('The mean value of the field, with the quark coupling is:', gsigq/gsig*SigBar, '[MeV]')\n",
    "\n",
    "print('The mean value of the nuclear density is:', rhoBar, '[fm^-3]')"
   ]
  },
  {
   "cell_type": "code",
   "execution_count": null,
   "id": "ddda127c",
   "metadata": {},
   "outputs": [],
   "source": []
  }
 ],
 "metadata": {
  "kernelspec": {
   "display_name": "Python 3 (ipykernel)",
   "language": "python",
   "name": "python3"
  },
  "language_info": {
   "codemirror_mode": {
    "name": "ipython",
    "version": 3
   },
   "file_extension": ".py",
   "mimetype": "text/x-python",
   "name": "python",
   "nbconvert_exporter": "python",
   "pygments_lexer": "ipython3",
   "version": "3.9.7"
  }
 },
 "nbformat": 4,
 "nbformat_minor": 5
}
